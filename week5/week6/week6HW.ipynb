#Hiroshima FW locations

# library import
import pandas as pd
import folium
import matplotlib.pyplot as plt 