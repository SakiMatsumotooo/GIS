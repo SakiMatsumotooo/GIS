{
 "cells": [
  {
   "cell_type": "code",
   "execution_count": 9,
   "metadata": {},
   "outputs": [],
   "source": [
    "# library import\n",
    "import pandas as pd\n",
    "import folium\n",
    "import matplotlib.pyplot as plt "
   ]
  },
  {
   "cell_type": "code",
   "execution_count": 10,
   "metadata": {},
   "outputs": [],
   "source": [
    "# import the csv file\n",
    "df = pd.read_csv('GIS.csv')"
   ]
  },
  {
   "cell_type": "code",
   "execution_count": 11,
   "metadata": {},
   "outputs": [
    {
     "data": {
      "text/html": [
       "<div>\n",
       "<style scoped>\n",
       "    .dataframe tbody tr th:only-of-type {\n",
       "        vertical-align: middle;\n",
       "    }\n",
       "\n",
       "    .dataframe tbody tr th {\n",
       "        vertical-align: top;\n",
       "    }\n",
       "\n",
       "    .dataframe thead th {\n",
       "        text-align: right;\n",
       "    }\n",
       "</style>\n",
       "<table border=\"1\" class=\"dataframe\">\n",
       "  <thead>\n",
       "    <tr style=\"text-align: right;\">\n",
       "      <th></th>\n",
       "      <th>name</th>\n",
       "      <th>description</th>\n",
       "      <th>latitude</th>\n",
       "      <th>longitude</th>\n",
       "      <th>colour</th>\n",
       "    </tr>\n",
       "  </thead>\n",
       "  <tbody>\n",
       "    <tr>\n",
       "      <th>0</th>\n",
       "      <td>宮島</td>\n",
       "      <td>行ってみたい観光スポット</td>\n",
       "      <td>34.392846</td>\n",
       "      <td>132.452266</td>\n",
       "      <td>orange</td>\n",
       "    </tr>\n",
       "    <tr>\n",
       "      <th>1</th>\n",
       "      <td>ホテルエスプル広島平和公園</td>\n",
       "      <td>Sakiが前泊するホテル</td>\n",
       "      <td>34.389116</td>\n",
       "      <td>132.456216</td>\n",
       "      <td>orange</td>\n",
       "    </tr>\n",
       "    <tr>\n",
       "      <th>2</th>\n",
       "      <td>広島現代美術館</td>\n",
       "      <td>Saki,Misuzu,Riria,Karenが金曜日に行く場所</td>\n",
       "      <td>34.386263</td>\n",
       "      <td>132.473582</td>\n",
       "      <td>green</td>\n",
       "    </tr>\n",
       "    <tr>\n",
       "      <th>3</th>\n",
       "      <td>広島テレビ</td>\n",
       "      <td>前泊メンバーでインタビュー</td>\n",
       "      <td>34.400276</td>\n",
       "      <td>132.475669</td>\n",
       "      <td>green</td>\n",
       "    </tr>\n",
       "    <tr>\n",
       "      <th>4</th>\n",
       "      <td>原爆ドーム</td>\n",
       "      <td>資料館拝観、Dialogue</td>\n",
       "      <td>34.395638</td>\n",
       "      <td>132.453603</td>\n",
       "      <td>green</td>\n",
       "    </tr>\n",
       "  </tbody>\n",
       "</table>\n",
       "</div>"
      ],
      "text/plain": [
       "            name                       description   latitude   longitude  \\\n",
       "0             宮島                      行ってみたい観光スポット  34.392846  132.452266   \n",
       "1  ホテルエスプル広島平和公園                      Sakiが前泊するホテル  34.389116  132.456216   \n",
       "2        広島現代美術館  Saki,Misuzu,Riria,Karenが金曜日に行く場所  34.386263  132.473582   \n",
       "3          広島テレビ                     前泊メンバーでインタビュー  34.400276  132.475669   \n",
       "4          原爆ドーム                    資料館拝観、Dialogue  34.395638  132.453603   \n",
       "\n",
       "   colour  \n",
       "0  orange  \n",
       "1  orange  \n",
       "2   green  \n",
       "3   green  \n",
       "4   green  "
      ]
     },
     "execution_count": 11,
     "metadata": {},
     "output_type": "execute_result"
    }
   ],
   "source": [
    "df"
   ]
  },
  {
   "cell_type": "code",
   "execution_count": 12,
   "metadata": {},
   "outputs": [
    {
     "data": {
      "text/plain": [
       "(5, 5)"
      ]
     },
     "execution_count": 12,
     "metadata": {},
     "output_type": "execute_result"
    }
   ],
   "source": [
    "# size of the data (rows, columns)\n",
    "df.shape"
   ]
  },
  {
   "cell_type": "code",
   "execution_count": 13,
   "metadata": {},
   "outputs": [
    {
     "name": "stdout",
     "output_type": "stream",
     "text": [
      "<class 'pandas.core.frame.DataFrame'>\n",
      "RangeIndex: 5 entries, 0 to 4\n",
      "Data columns (total 5 columns):\n",
      " #   Column       Non-Null Count  Dtype  \n",
      "---  ------       --------------  -----  \n",
      " 0   name         5 non-null      object \n",
      " 1   description  5 non-null      object \n",
      " 2   latitude     5 non-null      float64\n",
      " 3   longitude    5 non-null      float64\n",
      " 4   colour       5 non-null      object \n",
      "dtypes: float64(2), object(3)\n",
      "memory usage: 332.0+ bytes\n"
     ]
    }
   ],
   "source": [
    "# information about the data\n",
    "df.info()"
   ]
  },
  {
   "cell_type": "code",
   "execution_count": 14,
   "metadata": {},
   "outputs": [
    {
     "data": {
      "text/plain": [
       "['name', 'description', 'latitude', 'longitude', 'colour']"
      ]
     },
     "execution_count": 14,
     "metadata": {},
     "output_type": "execute_result"
    }
   ],
   "source": [
    "# list of columns\n",
    "df.columns.to_list()"
   ]
  },
  {
   "cell_type": "code",
   "execution_count": 15,
   "metadata": {},
   "outputs": [
    {
     "data": {
      "text/plain": [
       "0    132.452266\n",
       "1    132.456216\n",
       "2    132.473582\n",
       "3    132.475669\n",
       "4    132.453603\n",
       "Name: longitude, dtype: float64"
      ]
     },
     "execution_count": 15,
     "metadata": {},
     "output_type": "execute_result"
    }
   ],
   "source": [
    "# get values for a single column\n",
    "df['longitude']"
   ]
  },
  {
   "cell_type": "code",
   "execution_count": 17,
   "metadata": {},
   "outputs": [
    {
     "data": {
      "text/plain": [
       "[34.39284603, 34.38911573, 34.38626261, 34.400276, 34.3956379]"
      ]
     },
     "execution_count": 17,
     "metadata": {},
     "output_type": "execute_result"
    }
   ],
   "source": [
    "# put those values in a list\n",
    "df['latitude'].to_list()"
   ]
  },
  {
   "cell_type": "code",
   "execution_count": 18,
   "metadata": {},
   "outputs": [
    {
     "data": {
      "text/plain": [
       "<Axes: >"
      ]
     },
     "execution_count": 18,
     "metadata": {},
     "output_type": "execute_result"
    },
    {
     "data": {
      "image/png": "[encoded data removed]",
      "text/plain": [
       "<Figure size 640x480 with 1 Axes>"
      ]
     },
     "metadata": {},
     "output_type": "display_data"
    }
   ],
   "source": [
    "# line chart\n",
    "df['latitude'].plot()"
   ]
  },
  {
   "cell_type": "code",
   "execution_count": 19,
   "metadata": {},
   "outputs": [
    {
     "data": {
      "text/plain": [
       "<Axes: >"
      ]
     },
     "execution_count": 19,
     "metadata": {},
     "output_type": "execute_result"
    },
    {
     "data": {
      "image/png": "[encoded data removed]",
      "text/plain": [
       "<Figure size 640x480 with 1 Axes>"
      ]
     },
     "metadata": {},
     "output_type": "display_data"
    }
   ],
   "source": [
    "# boxplot 箱ヒゲ図\n",
    "df['latitude'].plot.box(color='red')"
   ]
  },
  {
   "cell_type": "code",
   "execution_count": 20,
   "metadata": {},
   "outputs": [
    {
     "data": {
      "text/plain": [
       "<Axes: >"
      ]
     },
     "execution_count": 20,
     "metadata": {},
     "output_type": "execute_result"
    },
    {
     "data": {
      "image/png": "[encoded data removed]",
      "text/plain": [
       "<Figure size 640x480 with 1 Axes>"
      ]
     },
     "metadata": {},
     "output_type": "display_data"
    }
   ],
   "source": [
    "# bar graph\n",
    "df['latitude'].plot.bar(color='green')"
   ]
  },
  {
   "cell_type": "code",
   "execution_count": 22,
   "metadata": {},
   "outputs": [
    {
     "data": {
      "text/plain": [
       "<Axes: xlabel='longitude', ylabel='latitude'>"
      ]
     },
     "execution_count": 22,
     "metadata": {},
     "output_type": "execute_result"
    },
    {
     "data": {
      "image/png": "[encoded data removed]",
      "text/plain": [
       "<Figure size 640x480 with 1 Axes>"
      ]
     },
     "metadata": {},
     "output_type": "display_data"
    }
   ],
   "source": [
    "df.plot.scatter(x='longitude',y='latitude',c='colour',s=50)"
   ]
  },
  {
   "cell_type": "code",
   "execution_count": 23,
   "metadata": {},
   "outputs": [
    {
     "data": {
      "text/plain": [
       "count     5.000000\n",
       "mean     34.392828\n",
       "std       0.005483\n",
       "min      34.386263\n",
       "25%      34.389116\n",
       "50%      34.392846\n",
       "75%      34.395638\n",
       "max      34.400276\n",
       "Name: latitude, dtype: float64"
      ]
     },
     "execution_count": 23,
     "metadata": {},
     "output_type": "execute_result"
    }
   ],
   "source": [
    "# summary stats\n",
    "df['latitude'].describe()"
   ]
  },
  {
   "cell_type": "code",
   "execution_count": 24,
   "metadata": {},
   "outputs": [
    {
     "data": {
      "text/plain": [
       "count      5.000000\n",
       "mean     132.462267\n",
       "std        0.011395\n",
       "min      132.452266\n",
       "25%      132.453603\n",
       "50%      132.456216\n",
       "75%      132.473582\n",
       "max      132.475669\n",
       "Name: longitude, dtype: float64"
      ]
     },
     "execution_count": 24,
     "metadata": {},
     "output_type": "execute_result"
    }
   ],
   "source": [
    "# summary stats\n",
    "df['longitude'].describe()"
   ]
  },
  {
   "cell_type": "code",
   "execution_count": 25,
   "metadata": {},
   "outputs": [
    {
     "data": {
      "text/plain": [
       "34.392827654"
      ]
     },
     "execution_count": 25,
     "metadata": {},
     "output_type": "execute_result"
    }
   ],
   "source": [
    "df['latitude'].mean()"
   ]
  },
  {
   "cell_type": "code",
   "execution_count": 26,
   "metadata": {},
   "outputs": [
    {
     "data": {
      "text/plain": [
       "34.39284603"
      ]
     },
     "execution_count": 26,
     "metadata": {},
     "output_type": "execute_result"
    }
   ],
   "source": [
    "df['latitude'].median()"
   ]
  },
  {
   "cell_type": "code",
   "execution_count": 27,
   "metadata": {},
   "outputs": [],
   "source": [
    "# complete the following code:\n",
    "center_lat = df['latitude'].mean()\n",
    "center_lon =df['longitude'].mean()"
   ]
  },
  {
   "cell_type": "code",
   "execution_count": 28,
   "metadata": {},
   "outputs": [
    {
     "name": "stdout",
     "output_type": "stream",
     "text": [
      "宮島\n",
      "ホテルエスプル広島平和公園\n",
      "広島現代美術館\n",
      "広島テレビ\n",
      "原爆ドーム\n"
     ]
    }
   ],
   "source": [
    "# loop through your data\n",
    "for index, row in df.iterrows():\n",
    "    print(row['name'])"
   ]
  },
  {
   "cell_type": "code",
   "execution_count": 29,
   "metadata": {},
   "outputs": [
    {
     "name": "stdout",
     "output_type": "stream",
     "text": [
      "宮島 34.39284603 132.4522656\n",
      "ホテルエスプル広島平和公園 34.38911573 132.4562155\n",
      "広島現代美術館 34.38626261 132.4735821\n",
      "広島テレビ 34.400276 132.475669\n",
      "原爆ドーム 34.3956379 132.4536027\n"
     ]
    }
   ],
   "source": [
    "# loop and output multiple column values\n",
    "for index, row in df.iterrows():\n",
    "    print(row['name'],row['latitude'],row['longitude'])"
   ]
  },
  {
   "cell_type": "code",
   "execution_count": 36,
   "metadata": {},
   "outputs": [
    {
     "data": {
      "text/html": [
       "<div style=\"width:100%;\"><div style=\"position:relative;width:100%;height:0;padding-bottom:60%;\"><span style=\"color:#565656\">Make this Notebook Trusted to load map: File -> Trust Notebook</span><iframe srcdoc=\"&lt;!DOCTYPE html&gt;\n",
       "&lt;html&gt;\n",
       "&lt;head&gt;\n",
       "    \n",
       "    &lt;meta http-equiv=&quot;content-type&quot; content=&quot;text/html; charset=UTF-8&quot; /&gt;\n",
       "    \n",
       "        &lt;script&gt;\n",
       "            L_NO_TOUCH = false;\n",
       "            L_DISABLE_3D = false;\n",
       "        &lt;/script&gt;\n",
       "    \n",
       "    &lt;style&gt;html, body {width: 100%;height: 100%;margin: 0;padding: 0;}&lt;/style&gt;\n",
       "    &lt;style&gt;#map {position:absolute;top:0;bottom:0;right:0;left:0;}&lt;/style&gt;\n",
       "    &lt;script src=&quot;https://cdn.jsdelivr.net/npm/leaflet@1.9.3/dist/leaflet.js&quot;&gt;&lt;/script&gt;\n",
       "    &lt;script src=&quot;https://code.jquery.com/jquery-3.7.1.min.js&quot;&gt;&lt;/script&gt;\n",
       "    &lt;script src=&quot;https://cdn.jsdelivr.net/npm/bootstrap@5.2.2/dist/js/bootstrap.bundle.min.js&quot;&gt;&lt;/script&gt;\n",
       "    &lt;script src=&quot;https://cdnjs.cloudflare.com/ajax/libs/Leaflet.awesome-markers/2.0.2/leaflet.awesome-markers.js&quot;&gt;&lt;/script&gt;\n",
       "    &lt;link rel=&quot;stylesheet&quot; href=&quot;https://cdn.jsdelivr.net/npm/leaflet@1.9.3/dist/leaflet.css&quot;/&gt;\n",
       "    &lt;link rel=&quot;stylesheet&quot; href=&quot;https://cdn.jsdelivr.net/npm/bootstrap@5.2.2/dist/css/bootstrap.min.css&quot;/&gt;\n",
       "    &lt;link rel=&quot;stylesheet&quot; href=&quot;https://netdna.bootstrapcdn.com/bootstrap/3.0.0/css/bootstrap.min.css&quot;/&gt;\n",
       "    &lt;link rel=&quot;stylesheet&quot; href=&quot;https://cdn.jsdelivr.net/npm/@fortawesome/fontawesome-free@6.2.0/css/all.min.css&quot;/&gt;\n",
       "    &lt;link rel=&quot;stylesheet&quot; href=&quot;https://cdnjs.cloudflare.com/ajax/libs/Leaflet.awesome-markers/2.0.2/leaflet.awesome-markers.css&quot;/&gt;\n",
       "    &lt;link rel=&quot;stylesheet&quot; href=&quot;https://cdn.jsdelivr.net/gh/python-visualization/folium/folium/templates/leaflet.awesome.rotate.min.css&quot;/&gt;\n",
       "    \n",
       "            &lt;meta name=&quot;viewport&quot; content=&quot;width=device-width,\n",
       "                initial-scale=1.0, maximum-scale=1.0, user-scalable=no&quot; /&gt;\n",
       "            &lt;style&gt;\n",
       "                #map_16f0e91cebb1bf97619a40d2cd54a630 {\n",
       "                    position: relative;\n",
       "                    width: 100.0%;\n",
       "                    height: 100.0%;\n",
       "                    left: 0.0%;\n",
       "                    top: 0.0%;\n",
       "                }\n",
       "                .leaflet-container { font-size: 1rem; }\n",
       "            &lt;/style&gt;\n",
       "        \n",
       "&lt;/head&gt;\n",
       "&lt;body&gt;\n",
       "    \n",
       "    \n",
       "            &lt;div class=&quot;folium-map&quot; id=&quot;map_16f0e91cebb1bf97619a40d2cd54a630&quot; &gt;&lt;/div&gt;\n",
       "        \n",
       "&lt;/body&gt;\n",
       "&lt;script&gt;\n",
       "    \n",
       "    \n",
       "            var map_16f0e91cebb1bf97619a40d2cd54a630 = L.map(\n",
       "                &quot;map_16f0e91cebb1bf97619a40d2cd54a630&quot;,\n",
       "                {\n",
       "                    center: [34.392827654, 132.46226698],\n",
       "                    crs: L.CRS.EPSG3857,\n",
       "                    zoom: 13.5,\n",
       "                    zoomControl: true,\n",
       "                    preferCanvas: false,\n",
       "                }\n",
       "            );\n",
       "\n",
       "            \n",
       "\n",
       "        \n",
       "    \n",
       "            var tile_layer_8aa397e783e3288abe18daac9d904c4b = L.tileLayer(\n",
       "                &quot;https://tile.openstreetmap.org/{z}/{x}/{y}.png&quot;,\n",
       "                {&quot;attribution&quot;: &quot;\\u0026copy; \\u003ca href=\\&quot;https://www.openstreetmap.org/copyright\\&quot;\\u003eOpenStreetMap\\u003c/a\\u003e contributors&quot;, &quot;detectRetina&quot;: false, &quot;maxNativeZoom&quot;: 19, &quot;maxZoom&quot;: 19, &quot;minZoom&quot;: 0, &quot;noWrap&quot;: false, &quot;opacity&quot;: 1, &quot;subdomains&quot;: &quot;abc&quot;, &quot;tms&quot;: false}\n",
       "            );\n",
       "        \n",
       "    \n",
       "            tile_layer_8aa397e783e3288abe18daac9d904c4b.addTo(map_16f0e91cebb1bf97619a40d2cd54a630);\n",
       "        \n",
       "    \n",
       "            var marker_f2ac5a9eb5dd66486866345c05edad9f = L.marker(\n",
       "                [34.39284603, 132.4522656],\n",
       "                {}\n",
       "            ).addTo(map_16f0e91cebb1bf97619a40d2cd54a630);\n",
       "        \n",
       "    \n",
       "            var icon_33cb4bb1385522cc80e977fe0e58d57d = L.AwesomeMarkers.icon(\n",
       "                {&quot;extraClasses&quot;: &quot;fa-rotate-0&quot;, &quot;icon&quot;: &quot;info-sign&quot;, &quot;iconColor&quot;: &quot;white&quot;, &quot;markerColor&quot;: &quot;orange&quot;, &quot;prefix&quot;: &quot;glyphicon&quot;}\n",
       "            );\n",
       "            marker_f2ac5a9eb5dd66486866345c05edad9f.setIcon(icon_33cb4bb1385522cc80e977fe0e58d57d);\n",
       "        \n",
       "    \n",
       "        var popup_6dcc8c88d8f2428e35fd310ee34798b5 = L.popup({&quot;maxWidth&quot;: &quot;100%&quot;});\n",
       "\n",
       "        \n",
       "            \n",
       "                var html_16bbb4dc8c447f87704a39c83ef73b7d = $(`&lt;div id=&quot;html_16bbb4dc8c447f87704a39c83ef73b7d&quot; style=&quot;width: 100.0%; height: 100.0%;&quot;&gt;&lt;div style=&quot;width:350px&quot;&gt;行ってみたい観光スポット&lt;/div&gt;&lt;/div&gt;`)[0];\n",
       "                popup_6dcc8c88d8f2428e35fd310ee34798b5.setContent(html_16bbb4dc8c447f87704a39c83ef73b7d);\n",
       "            \n",
       "        \n",
       "\n",
       "        marker_f2ac5a9eb5dd66486866345c05edad9f.bindPopup(popup_6dcc8c88d8f2428e35fd310ee34798b5)\n",
       "        ;\n",
       "\n",
       "        \n",
       "    \n",
       "    \n",
       "            marker_f2ac5a9eb5dd66486866345c05edad9f.bindTooltip(\n",
       "                `&lt;div&gt;\n",
       "                     宮島\n",
       "                 &lt;/div&gt;`,\n",
       "                {&quot;sticky&quot;: true}\n",
       "            );\n",
       "        \n",
       "    \n",
       "            var marker_8d65aec782ed9d30e6beca3b71cf6052 = L.marker(\n",
       "                [34.38911573, 132.4562155],\n",
       "                {}\n",
       "            ).addTo(map_16f0e91cebb1bf97619a40d2cd54a630);\n",
       "        \n",
       "    \n",
       "            var icon_b9a48c3f2ed5c9067f84d3b7e61db709 = L.AwesomeMarkers.icon(\n",
       "                {&quot;extraClasses&quot;: &quot;fa-rotate-0&quot;, &quot;icon&quot;: &quot;info-sign&quot;, &quot;iconColor&quot;: &quot;white&quot;, &quot;markerColor&quot;: &quot;orange&quot;, &quot;prefix&quot;: &quot;glyphicon&quot;}\n",
       "            );\n",
       "            marker_8d65aec782ed9d30e6beca3b71cf6052.setIcon(icon_b9a48c3f2ed5c9067f84d3b7e61db709);\n",
       "        \n",
       "    \n",
       "        var popup_58ed99a2a67bed575619602cfb5613c5 = L.popup({&quot;maxWidth&quot;: &quot;100%&quot;});\n",
       "\n",
       "        \n",
       "            \n",
       "                var html_3dbd477e68ce9ec36910032750a74a0d = $(`&lt;div id=&quot;html_3dbd477e68ce9ec36910032750a74a0d&quot; style=&quot;width: 100.0%; height: 100.0%;&quot;&gt;&lt;div style=&quot;width:350px&quot;&gt;Sakiが前泊するホテル&lt;/div&gt;&lt;/div&gt;`)[0];\n",
       "                popup_58ed99a2a67bed575619602cfb5613c5.setContent(html_3dbd477e68ce9ec36910032750a74a0d);\n",
       "            \n",
       "        \n",
       "\n",
       "        marker_8d65aec782ed9d30e6beca3b71cf6052.bindPopup(popup_58ed99a2a67bed575619602cfb5613c5)\n",
       "        ;\n",
       "\n",
       "        \n",
       "    \n",
       "    \n",
       "            marker_8d65aec782ed9d30e6beca3b71cf6052.bindTooltip(\n",
       "                `&lt;div&gt;\n",
       "                     ホテルエスプル広島平和公園\n",
       "                 &lt;/div&gt;`,\n",
       "                {&quot;sticky&quot;: true}\n",
       "            );\n",
       "        \n",
       "    \n",
       "            var marker_8f5450d3d8ebcb03033986da64dc24f8 = L.marker(\n",
       "                [34.38626261, 132.4735821],\n",
       "                {}\n",
       "            ).addTo(map_16f0e91cebb1bf97619a40d2cd54a630);\n",
       "        \n",
       "    \n",
       "            var icon_a786565cd6fa7cd28db1dc54bae8c9f4 = L.AwesomeMarkers.icon(\n",
       "                {&quot;extraClasses&quot;: &quot;fa-rotate-0&quot;, &quot;icon&quot;: &quot;info-sign&quot;, &quot;iconColor&quot;: &quot;white&quot;, &quot;markerColor&quot;: &quot;green&quot;, &quot;prefix&quot;: &quot;glyphicon&quot;}\n",
       "            );\n",
       "            marker_8f5450d3d8ebcb03033986da64dc24f8.setIcon(icon_a786565cd6fa7cd28db1dc54bae8c9f4);\n",
       "        \n",
       "    \n",
       "        var popup_e772568aacf2ce35067af7c366280b04 = L.popup({&quot;maxWidth&quot;: &quot;100%&quot;});\n",
       "\n",
       "        \n",
       "            \n",
       "                var html_c1e951836286076a22ce353a58e0e96d = $(`&lt;div id=&quot;html_c1e951836286076a22ce353a58e0e96d&quot; style=&quot;width: 100.0%; height: 100.0%;&quot;&gt;&lt;div style=&quot;width:350px&quot;&gt;Saki,Misuzu,Riria,Karenが金曜日に行く場所&lt;/div&gt;&lt;/div&gt;`)[0];\n",
       "                popup_e772568aacf2ce35067af7c366280b04.setContent(html_c1e951836286076a22ce353a58e0e96d);\n",
       "            \n",
       "        \n",
       "\n",
       "        marker_8f5450d3d8ebcb03033986da64dc24f8.bindPopup(popup_e772568aacf2ce35067af7c366280b04)\n",
       "        ;\n",
       "\n",
       "        \n",
       "    \n",
       "    \n",
       "            marker_8f5450d3d8ebcb03033986da64dc24f8.bindTooltip(\n",
       "                `&lt;div&gt;\n",
       "                     広島現代美術館\n",
       "                 &lt;/div&gt;`,\n",
       "                {&quot;sticky&quot;: true}\n",
       "            );\n",
       "        \n",
       "    \n",
       "            var marker_9e70c55e58710f59351a7d1c47507d86 = L.marker(\n",
       "                [34.400276, 132.475669],\n",
       "                {}\n",
       "            ).addTo(map_16f0e91cebb1bf97619a40d2cd54a630);\n",
       "        \n",
       "    \n",
       "            var icon_f7d0343b70c6d5275ea5fbb352acce60 = L.AwesomeMarkers.icon(\n",
       "                {&quot;extraClasses&quot;: &quot;fa-rotate-0&quot;, &quot;icon&quot;: &quot;info-sign&quot;, &quot;iconColor&quot;: &quot;white&quot;, &quot;markerColor&quot;: &quot;green&quot;, &quot;prefix&quot;: &quot;glyphicon&quot;}\n",
       "            );\n",
       "            marker_9e70c55e58710f59351a7d1c47507d86.setIcon(icon_f7d0343b70c6d5275ea5fbb352acce60);\n",
       "        \n",
       "    \n",
       "        var popup_f80433885dfd8675df5e3decb1b55112 = L.popup({&quot;maxWidth&quot;: &quot;100%&quot;});\n",
       "\n",
       "        \n",
       "            \n",
       "                var html_9de25ecedd0f3cbb58a638f84d4817ff = $(`&lt;div id=&quot;html_9de25ecedd0f3cbb58a638f84d4817ff&quot; style=&quot;width: 100.0%; height: 100.0%;&quot;&gt;&lt;div style=&quot;width:350px&quot;&gt;前泊メンバーでインタビュー&lt;/div&gt;&lt;/div&gt;`)[0];\n",
       "                popup_f80433885dfd8675df5e3decb1b55112.setContent(html_9de25ecedd0f3cbb58a638f84d4817ff);\n",
       "            \n",
       "        \n",
       "\n",
       "        marker_9e70c55e58710f59351a7d1c47507d86.bindPopup(popup_f80433885dfd8675df5e3decb1b55112)\n",
       "        ;\n",
       "\n",
       "        \n",
       "    \n",
       "    \n",
       "            marker_9e70c55e58710f59351a7d1c47507d86.bindTooltip(\n",
       "                `&lt;div&gt;\n",
       "                     広島テレビ\n",
       "                 &lt;/div&gt;`,\n",
       "                {&quot;sticky&quot;: true}\n",
       "            );\n",
       "        \n",
       "    \n",
       "            var marker_e8000f8c97d2a7b7cfd9d694899699ce = L.marker(\n",
       "                [34.3956379, 132.4536027],\n",
       "                {}\n",
       "            ).addTo(map_16f0e91cebb1bf97619a40d2cd54a630);\n",
       "        \n",
       "    \n",
       "            var icon_da4414b721f26024a9012c2143322da1 = L.AwesomeMarkers.icon(\n",
       "                {&quot;extraClasses&quot;: &quot;fa-rotate-0&quot;, &quot;icon&quot;: &quot;info-sign&quot;, &quot;iconColor&quot;: &quot;white&quot;, &quot;markerColor&quot;: &quot;green&quot;, &quot;prefix&quot;: &quot;glyphicon&quot;}\n",
       "            );\n",
       "            marker_e8000f8c97d2a7b7cfd9d694899699ce.setIcon(icon_da4414b721f26024a9012c2143322da1);\n",
       "        \n",
       "    \n",
       "        var popup_09b8b725b7248dd015b9a4361e188fd0 = L.popup({&quot;maxWidth&quot;: &quot;100%&quot;});\n",
       "\n",
       "        \n",
       "            \n",
       "                var html_a71f6c6f885013b84ad55e966c9c5d60 = $(`&lt;div id=&quot;html_a71f6c6f885013b84ad55e966c9c5d60&quot; style=&quot;width: 100.0%; height: 100.0%;&quot;&gt;&lt;div style=&quot;width:350px&quot;&gt;資料館拝観、Dialogue&lt;/div&gt;&lt;/div&gt;`)[0];\n",
       "                popup_09b8b725b7248dd015b9a4361e188fd0.setContent(html_a71f6c6f885013b84ad55e966c9c5d60);\n",
       "            \n",
       "        \n",
       "\n",
       "        marker_e8000f8c97d2a7b7cfd9d694899699ce.bindPopup(popup_09b8b725b7248dd015b9a4361e188fd0)\n",
       "        ;\n",
       "\n",
       "        \n",
       "    \n",
       "    \n",
       "            marker_e8000f8c97d2a7b7cfd9d694899699ce.bindTooltip(\n",
       "                `&lt;div&gt;\n",
       "                     原爆ドーム\n",
       "                 &lt;/div&gt;`,\n",
       "                {&quot;sticky&quot;: true}\n",
       "            );\n",
       "        \n",
       "&lt;/script&gt;\n",
       "&lt;/html&gt;\" style=\"position:absolute;width:100%;height:100%;left:0;top:0;border:none !important;\" allowfullscreen webkitallowfullscreen mozallowfullscreen></iframe></div></div>"
      ],
      "text/plain": [
       "<folium.folium.Map at 0x1346e2790>"
      ]
     },
     "execution_count": 36,
     "metadata": {},
     "output_type": "execute_result"
    }
   ],
   "source": [
    "# make the map\n",
    "m = folium.Map(location=[center_lat,center_lon], zoom_start=13.5)\n",
    "\n",
    "# df をループしてマーカーを作る\n",
    "for index, row in df.iterrows():\n",
    "    latlon = [row['latitude'],row['longitude']]\n",
    "    folium.Marker(latlon, \n",
    "                  popup='<div style=\"width:350px\">'+row['description']+'</div>', \n",
    "                  tooltip=row['name'],\n",
    "                  icon=folium.Icon(color=row['colour']\n",
    "                )).add_to(m)\n",
    "\n",
    "# show the map\n",
    "m"
   ]
  },
  {
   "cell_type": "code",
   "execution_count": 38,
   "metadata": {},
   "outputs": [
    {
     "data": {
      "text/html": [
       "<div style=\"width:100%;\"><div style=\"position:relative;width:100%;height:0;padding-bottom:60%;\"><span style=\"color:#565656\">Make this Notebook Trusted to load map: File -> Trust Notebook</span><iframe srcdoc=\"&lt;!DOCTYPE html&gt;\n",
       "&lt;html&gt;\n",
       "&lt;head&gt;\n",
       "    \n",
       "    &lt;meta http-equiv=&quot;content-type&quot; content=&quot;text/html; charset=UTF-8&quot; /&gt;\n",
       "    \n",
       "        &lt;script&gt;\n",
       "            L_NO_TOUCH = false;\n",
       "            L_DISABLE_3D = false;\n",
       "        &lt;/script&gt;\n",
       "    \n",
       "    &lt;style&gt;html, body {width: 100%;height: 100%;margin: 0;padding: 0;}&lt;/style&gt;\n",
       "    &lt;style&gt;#map {position:absolute;top:0;bottom:0;right:0;left:0;}&lt;/style&gt;\n",
       "    &lt;script src=&quot;https://cdn.jsdelivr.net/npm/leaflet@1.9.3/dist/leaflet.js&quot;&gt;&lt;/script&gt;\n",
       "    &lt;script src=&quot;https://code.jquery.com/jquery-3.7.1.min.js&quot;&gt;&lt;/script&gt;\n",
       "    &lt;script src=&quot;https://cdn.jsdelivr.net/npm/bootstrap@5.2.2/dist/js/bootstrap.bundle.min.js&quot;&gt;&lt;/script&gt;\n",
       "    &lt;script src=&quot;https://cdnjs.cloudflare.com/ajax/libs/Leaflet.awesome-markers/2.0.2/leaflet.awesome-markers.js&quot;&gt;&lt;/script&gt;\n",
       "    &lt;link rel=&quot;stylesheet&quot; href=&quot;https://cdn.jsdelivr.net/npm/leaflet@1.9.3/dist/leaflet.css&quot;/&gt;\n",
       "    &lt;link rel=&quot;stylesheet&quot; href=&quot;https://cdn.jsdelivr.net/npm/bootstrap@5.2.2/dist/css/bootstrap.min.css&quot;/&gt;\n",
       "    &lt;link rel=&quot;stylesheet&quot; href=&quot;https://netdna.bootstrapcdn.com/bootstrap/3.0.0/css/bootstrap.min.css&quot;/&gt;\n",
       "    &lt;link rel=&quot;stylesheet&quot; href=&quot;https://cdn.jsdelivr.net/npm/@fortawesome/fontawesome-free@6.2.0/css/all.min.css&quot;/&gt;\n",
       "    &lt;link rel=&quot;stylesheet&quot; href=&quot;https://cdnjs.cloudflare.com/ajax/libs/Leaflet.awesome-markers/2.0.2/leaflet.awesome-markers.css&quot;/&gt;\n",
       "    &lt;link rel=&quot;stylesheet&quot; href=&quot;https://cdn.jsdelivr.net/gh/python-visualization/folium/folium/templates/leaflet.awesome.rotate.min.css&quot;/&gt;\n",
       "    \n",
       "            &lt;meta name=&quot;viewport&quot; content=&quot;width=device-width,\n",
       "                initial-scale=1.0, maximum-scale=1.0, user-scalable=no&quot; /&gt;\n",
       "            &lt;style&gt;\n",
       "                #map_20e3c591c2979d190ef9f7ebeecbc624 {\n",
       "                    position: relative;\n",
       "                    width: 100.0%;\n",
       "                    height: 100.0%;\n",
       "                    left: 0.0%;\n",
       "                    top: 0.0%;\n",
       "                }\n",
       "                .leaflet-container { font-size: 1rem; }\n",
       "            &lt;/style&gt;\n",
       "        \n",
       "&lt;/head&gt;\n",
       "&lt;body&gt;\n",
       "    \n",
       "    \n",
       "            &lt;div class=&quot;folium-map&quot; id=&quot;map_20e3c591c2979d190ef9f7ebeecbc624&quot; &gt;&lt;/div&gt;\n",
       "        \n",
       "&lt;/body&gt;\n",
       "&lt;script&gt;\n",
       "    \n",
       "    \n",
       "            var map_20e3c591c2979d190ef9f7ebeecbc624 = L.map(\n",
       "                &quot;map_20e3c591c2979d190ef9f7ebeecbc624&quot;,\n",
       "                {\n",
       "                    center: [34.392827654, 132.46226698],\n",
       "                    crs: L.CRS.EPSG3857,\n",
       "                    zoom: 13.5,\n",
       "                    zoomControl: true,\n",
       "                    preferCanvas: false,\n",
       "                }\n",
       "            );\n",
       "\n",
       "            \n",
       "\n",
       "        \n",
       "    \n",
       "            var tile_layer_b07f758ee734b3464b98df37aed3c33c = L.tileLayer(\n",
       "                &quot;https://tile.openstreetmap.org/{z}/{x}/{y}.png&quot;,\n",
       "                {&quot;attribution&quot;: &quot;\\u56fd\\u571f\\u5730\\u7406\\u9662&quot;, &quot;detectRetina&quot;: false, &quot;maxNativeZoom&quot;: 19, &quot;maxZoom&quot;: 19, &quot;minZoom&quot;: 0, &quot;noWrap&quot;: false, &quot;opacity&quot;: 1, &quot;subdomains&quot;: &quot;abc&quot;, &quot;tms&quot;: false}\n",
       "            );\n",
       "        \n",
       "    \n",
       "            tile_layer_b07f758ee734b3464b98df37aed3c33c.addTo(map_20e3c591c2979d190ef9f7ebeecbc624);\n",
       "        \n",
       "    \n",
       "            var tile_layer_7da2ef2765605c8da448ec54b3ccb200 = L.tileLayer(\n",
       "                &quot;https://cyberjapandata.gsi.go.jp/xyz/seamlessphoto/{z}/{x}/{y}.jpg&quot;,\n",
       "                {&quot;attribution&quot;: &quot;\\u56fd\\u571f\\u5730\\u7406\\u9662&quot;, &quot;detectRetina&quot;: false, &quot;maxNativeZoom&quot;: 18, &quot;maxZoom&quot;: 18, &quot;minZoom&quot;: 0, &quot;noWrap&quot;: false, &quot;opacity&quot;: 1, &quot;subdomains&quot;: &quot;abc&quot;, &quot;tms&quot;: false}\n",
       "            );\n",
       "        \n",
       "    \n",
       "            tile_layer_7da2ef2765605c8da448ec54b3ccb200.addTo(map_20e3c591c2979d190ef9f7ebeecbc624);\n",
       "        \n",
       "    \n",
       "            var tile_layer_ce4f5ef56891153d4bbe693aa7d08aa5 = L.tileLayer(\n",
       "                &quot;https://cyberjapandata.gsi.go.jp/xyz/gazo4/{z}/{x}/{y}.jpg&quot;,\n",
       "                {&quot;attribution&quot;: &quot;\\u56fd\\u571f\\u5730\\u7406\\u9662&quot;, &quot;detectRetina&quot;: false, &quot;maxNativeZoom&quot;: 18, &quot;maxZoom&quot;: 18, &quot;minZoom&quot;: 0, &quot;noWrap&quot;: false, &quot;opacity&quot;: 1, &quot;subdomains&quot;: &quot;abc&quot;, &quot;tms&quot;: false}\n",
       "            );\n",
       "        \n",
       "    \n",
       "            tile_layer_ce4f5ef56891153d4bbe693aa7d08aa5.addTo(map_20e3c591c2979d190ef9f7ebeecbc624);\n",
       "        \n",
       "    \n",
       "            var tile_layer_547e5fa81e78ff457f7d2f1917314571 = L.tileLayer(\n",
       "                &quot;https://cyberjapandata.gsi.go.jp/xyz/gazo3/{z}/{x}/{y}.jpg&quot;,\n",
       "                {&quot;attribution&quot;: &quot;\\u56fd\\u571f\\u5730\\u7406\\u9662&quot;, &quot;detectRetina&quot;: false, &quot;maxNativeZoom&quot;: 18, &quot;maxZoom&quot;: 18, &quot;minZoom&quot;: 0, &quot;noWrap&quot;: false, &quot;opacity&quot;: 1, &quot;subdomains&quot;: &quot;abc&quot;, &quot;tms&quot;: false}\n",
       "            );\n",
       "        \n",
       "    \n",
       "            tile_layer_547e5fa81e78ff457f7d2f1917314571.addTo(map_20e3c591c2979d190ef9f7ebeecbc624);\n",
       "        \n",
       "    \n",
       "            var tile_layer_c9a5e92dcb0c972c52d1d52655f29274 = L.tileLayer(\n",
       "                &quot;https://cyberjapandata.gsi.go.jp/xyz/gazo2/{z}/{x}/{y}.jpg&quot;,\n",
       "                {&quot;attribution&quot;: &quot;\\u56fd\\u571f\\u5730\\u7406\\u9662&quot;, &quot;detectRetina&quot;: false, &quot;maxNativeZoom&quot;: 18, &quot;maxZoom&quot;: 18, &quot;minZoom&quot;: 0, &quot;noWrap&quot;: false, &quot;opacity&quot;: 1, &quot;subdomains&quot;: &quot;abc&quot;, &quot;tms&quot;: false}\n",
       "            );\n",
       "        \n",
       "    \n",
       "            tile_layer_c9a5e92dcb0c972c52d1d52655f29274.addTo(map_20e3c591c2979d190ef9f7ebeecbc624);\n",
       "        \n",
       "    \n",
       "            var tile_layer_4737437bba6c92ce150a5c7421a80a4a = L.tileLayer(\n",
       "                &quot;https://cyberjapandata.gsi.go.jp/xyz/gazo1/{z}/{x}/{y}.jpg&quot;,\n",
       "                {&quot;attribution&quot;: &quot;\\u56fd\\u571f\\u5730\\u7406\\u9662&quot;, &quot;detectRetina&quot;: false, &quot;maxNativeZoom&quot;: 18, &quot;maxZoom&quot;: 18, &quot;minZoom&quot;: 0, &quot;noWrap&quot;: false, &quot;opacity&quot;: 1, &quot;subdomains&quot;: &quot;abc&quot;, &quot;tms&quot;: false}\n",
       "            );\n",
       "        \n",
       "    \n",
       "            tile_layer_4737437bba6c92ce150a5c7421a80a4a.addTo(map_20e3c591c2979d190ef9f7ebeecbc624);\n",
       "        \n",
       "    \n",
       "            var tile_layer_24c1506827eb7490dd13605575f0263b = L.tileLayer(\n",
       "                &quot;https://cyberjapandata.gsi.go.jp/xyz/ort_old10/{z}/{x}/{y}.png&quot;,\n",
       "                {&quot;attribution&quot;: &quot;\\u56fd\\u571f\\u5730\\u7406\\u9662&quot;, &quot;detectRetina&quot;: false, &quot;maxNativeZoom&quot;: 18, &quot;maxZoom&quot;: 18, &quot;minZoom&quot;: 0, &quot;noWrap&quot;: false, &quot;opacity&quot;: 1, &quot;subdomains&quot;: &quot;abc&quot;, &quot;tms&quot;: false}\n",
       "            );\n",
       "        \n",
       "    \n",
       "            tile_layer_24c1506827eb7490dd13605575f0263b.addTo(map_20e3c591c2979d190ef9f7ebeecbc624);\n",
       "        \n",
       "    \n",
       "            var layer_control_77cd9a59c5bca01c5195997baf28a102_layers = {\n",
       "                base_layers : {\n",
       "                    &quot;openstreetmap&quot; : tile_layer_b07f758ee734b3464b98df37aed3c33c,\n",
       "                    &quot;2007\\u5e74\\u4ee5\\u964d&quot; : tile_layer_7da2ef2765605c8da448ec54b3ccb200,\n",
       "                    &quot;1987\\u5e74\\uff5e1990\\u5e74&quot; : tile_layer_ce4f5ef56891153d4bbe693aa7d08aa5,\n",
       "                    &quot;1984\\u5e74\\uff5e1986\\u5e74&quot; : tile_layer_547e5fa81e78ff457f7d2f1917314571,\n",
       "                    &quot;1979\\u5e74\\uff5e1983\\u5e74&quot; : tile_layer_c9a5e92dcb0c972c52d1d52655f29274,\n",
       "                    &quot;1974\\u5e74\\uff5e1978\\u5e74&quot; : tile_layer_4737437bba6c92ce150a5c7421a80a4a,\n",
       "                    &quot;1961\\u5e74\\uff5e1969\\u5e74&quot; : tile_layer_24c1506827eb7490dd13605575f0263b,\n",
       "                },\n",
       "                overlays :  {\n",
       "                },\n",
       "            };\n",
       "            let layer_control_77cd9a59c5bca01c5195997baf28a102 = L.control.layers(\n",
       "                layer_control_77cd9a59c5bca01c5195997baf28a102_layers.base_layers,\n",
       "                layer_control_77cd9a59c5bca01c5195997baf28a102_layers.overlays,\n",
       "                {&quot;autoZIndex&quot;: true, &quot;collapsed&quot;: true, &quot;position&quot;: &quot;topright&quot;}\n",
       "            ).addTo(map_20e3c591c2979d190ef9f7ebeecbc624);\n",
       "\n",
       "        \n",
       "    \n",
       "            var marker_04282b3f79720477978e79d1665776b9 = L.marker(\n",
       "                [34.39284603, 132.4522656],\n",
       "                {}\n",
       "            ).addTo(map_20e3c591c2979d190ef9f7ebeecbc624);\n",
       "        \n",
       "    \n",
       "            var icon_5d48261e26557c38d352efdc3eb4429e = L.AwesomeMarkers.icon(\n",
       "                {&quot;extraClasses&quot;: &quot;fa-rotate-0&quot;, &quot;icon&quot;: &quot;info-sign&quot;, &quot;iconColor&quot;: &quot;white&quot;, &quot;markerColor&quot;: &quot;orange&quot;, &quot;prefix&quot;: &quot;glyphicon&quot;}\n",
       "            );\n",
       "            marker_04282b3f79720477978e79d1665776b9.setIcon(icon_5d48261e26557c38d352efdc3eb4429e);\n",
       "        \n",
       "    \n",
       "        var popup_6543eba44906a5e0251637bc68c0c267 = L.popup({&quot;maxWidth&quot;: &quot;100%&quot;});\n",
       "\n",
       "        \n",
       "            \n",
       "                var html_0405574aee58ab661a4dbc5e4c1ffcaf = $(`&lt;div id=&quot;html_0405574aee58ab661a4dbc5e4c1ffcaf&quot; style=&quot;width: 100.0%; height: 100.0%;&quot;&gt;&lt;div style=&quot;width:350px&quot;&gt;行ってみたい観光スポット&lt;/div&gt;&lt;/div&gt;`)[0];\n",
       "                popup_6543eba44906a5e0251637bc68c0c267.setContent(html_0405574aee58ab661a4dbc5e4c1ffcaf);\n",
       "            \n",
       "        \n",
       "\n",
       "        marker_04282b3f79720477978e79d1665776b9.bindPopup(popup_6543eba44906a5e0251637bc68c0c267)\n",
       "        ;\n",
       "\n",
       "        \n",
       "    \n",
       "    \n",
       "            marker_04282b3f79720477978e79d1665776b9.bindTooltip(\n",
       "                `&lt;div&gt;\n",
       "                     宮島\n",
       "                 &lt;/div&gt;`,\n",
       "                {&quot;sticky&quot;: true}\n",
       "            );\n",
       "        \n",
       "    \n",
       "            var marker_3582a5bb02d2fdc3d13e92fb3605141a = L.marker(\n",
       "                [34.38911573, 132.4562155],\n",
       "                {}\n",
       "            ).addTo(map_20e3c591c2979d190ef9f7ebeecbc624);\n",
       "        \n",
       "    \n",
       "            var icon_b058577904ebe2e37ac093e054cdd639 = L.AwesomeMarkers.icon(\n",
       "                {&quot;extraClasses&quot;: &quot;fa-rotate-0&quot;, &quot;icon&quot;: &quot;info-sign&quot;, &quot;iconColor&quot;: &quot;white&quot;, &quot;markerColor&quot;: &quot;orange&quot;, &quot;prefix&quot;: &quot;glyphicon&quot;}\n",
       "            );\n",
       "            marker_3582a5bb02d2fdc3d13e92fb3605141a.setIcon(icon_b058577904ebe2e37ac093e054cdd639);\n",
       "        \n",
       "    \n",
       "        var popup_11c64b40ade96ebf324838f0120007b4 = L.popup({&quot;maxWidth&quot;: &quot;100%&quot;});\n",
       "\n",
       "        \n",
       "            \n",
       "                var html_97419f6995f5df0417744c74062c340e = $(`&lt;div id=&quot;html_97419f6995f5df0417744c74062c340e&quot; style=&quot;width: 100.0%; height: 100.0%;&quot;&gt;&lt;div style=&quot;width:350px&quot;&gt;Sakiが前泊するホテル&lt;/div&gt;&lt;/div&gt;`)[0];\n",
       "                popup_11c64b40ade96ebf324838f0120007b4.setContent(html_97419f6995f5df0417744c74062c340e);\n",
       "            \n",
       "        \n",
       "\n",
       "        marker_3582a5bb02d2fdc3d13e92fb3605141a.bindPopup(popup_11c64b40ade96ebf324838f0120007b4)\n",
       "        ;\n",
       "\n",
       "        \n",
       "    \n",
       "    \n",
       "            marker_3582a5bb02d2fdc3d13e92fb3605141a.bindTooltip(\n",
       "                `&lt;div&gt;\n",
       "                     ホテルエスプル広島平和公園\n",
       "                 &lt;/div&gt;`,\n",
       "                {&quot;sticky&quot;: true}\n",
       "            );\n",
       "        \n",
       "    \n",
       "            var marker_2e80d5a47fdb92080230a82112641726 = L.marker(\n",
       "                [34.38626261, 132.4735821],\n",
       "                {}\n",
       "            ).addTo(map_20e3c591c2979d190ef9f7ebeecbc624);\n",
       "        \n",
       "    \n",
       "            var icon_dbdcdaf32929ee32de0072aa15db3ae9 = L.AwesomeMarkers.icon(\n",
       "                {&quot;extraClasses&quot;: &quot;fa-rotate-0&quot;, &quot;icon&quot;: &quot;info-sign&quot;, &quot;iconColor&quot;: &quot;white&quot;, &quot;markerColor&quot;: &quot;green&quot;, &quot;prefix&quot;: &quot;glyphicon&quot;}\n",
       "            );\n",
       "            marker_2e80d5a47fdb92080230a82112641726.setIcon(icon_dbdcdaf32929ee32de0072aa15db3ae9);\n",
       "        \n",
       "    \n",
       "        var popup_d898c59e3ddedece58a8278b859d4c97 = L.popup({&quot;maxWidth&quot;: &quot;100%&quot;});\n",
       "\n",
       "        \n",
       "            \n",
       "                var html_058b8685f50903645d063eebd870f53b = $(`&lt;div id=&quot;html_058b8685f50903645d063eebd870f53b&quot; style=&quot;width: 100.0%; height: 100.0%;&quot;&gt;&lt;div style=&quot;width:350px&quot;&gt;Saki,Misuzu,Riria,Karenが金曜日に行く場所&lt;/div&gt;&lt;/div&gt;`)[0];\n",
       "                popup_d898c59e3ddedece58a8278b859d4c97.setContent(html_058b8685f50903645d063eebd870f53b);\n",
       "            \n",
       "        \n",
       "\n",
       "        marker_2e80d5a47fdb92080230a82112641726.bindPopup(popup_d898c59e3ddedece58a8278b859d4c97)\n",
       "        ;\n",
       "\n",
       "        \n",
       "    \n",
       "    \n",
       "            marker_2e80d5a47fdb92080230a82112641726.bindTooltip(\n",
       "                `&lt;div&gt;\n",
       "                     広島現代美術館\n",
       "                 &lt;/div&gt;`,\n",
       "                {&quot;sticky&quot;: true}\n",
       "            );\n",
       "        \n",
       "    \n",
       "            var marker_6b26863d4d71a3a64b06c9febacca079 = L.marker(\n",
       "                [34.400276, 132.475669],\n",
       "                {}\n",
       "            ).addTo(map_20e3c591c2979d190ef9f7ebeecbc624);\n",
       "        \n",
       "    \n",
       "            var icon_cbed8d5f9e0919b667d73c80cb75ac43 = L.AwesomeMarkers.icon(\n",
       "                {&quot;extraClasses&quot;: &quot;fa-rotate-0&quot;, &quot;icon&quot;: &quot;info-sign&quot;, &quot;iconColor&quot;: &quot;white&quot;, &quot;markerColor&quot;: &quot;green&quot;, &quot;prefix&quot;: &quot;glyphicon&quot;}\n",
       "            );\n",
       "            marker_6b26863d4d71a3a64b06c9febacca079.setIcon(icon_cbed8d5f9e0919b667d73c80cb75ac43);\n",
       "        \n",
       "    \n",
       "        var popup_7b042e08a268de7a0539e91ff03d2088 = L.popup({&quot;maxWidth&quot;: &quot;100%&quot;});\n",
       "\n",
       "        \n",
       "            \n",
       "                var html_8f0c094c06671b320c2abb2f5942faed = $(`&lt;div id=&quot;html_8f0c094c06671b320c2abb2f5942faed&quot; style=&quot;width: 100.0%; height: 100.0%;&quot;&gt;&lt;div style=&quot;width:350px&quot;&gt;前泊メンバーでインタビュー&lt;/div&gt;&lt;/div&gt;`)[0];\n",
       "                popup_7b042e08a268de7a0539e91ff03d2088.setContent(html_8f0c094c06671b320c2abb2f5942faed);\n",
       "            \n",
       "        \n",
       "\n",
       "        marker_6b26863d4d71a3a64b06c9febacca079.bindPopup(popup_7b042e08a268de7a0539e91ff03d2088)\n",
       "        ;\n",
       "\n",
       "        \n",
       "    \n",
       "    \n",
       "            marker_6b26863d4d71a3a64b06c9febacca079.bindTooltip(\n",
       "                `&lt;div&gt;\n",
       "                     広島テレビ\n",
       "                 &lt;/div&gt;`,\n",
       "                {&quot;sticky&quot;: true}\n",
       "            );\n",
       "        \n",
       "    \n",
       "            var marker_1d28a5a55a651b93669f46c2da151fcb = L.marker(\n",
       "                [34.3956379, 132.4536027],\n",
       "                {}\n",
       "            ).addTo(map_20e3c591c2979d190ef9f7ebeecbc624);\n",
       "        \n",
       "    \n",
       "            var icon_bafdce807d71baf6a849d932fcb9ad10 = L.AwesomeMarkers.icon(\n",
       "                {&quot;extraClasses&quot;: &quot;fa-rotate-0&quot;, &quot;icon&quot;: &quot;info-sign&quot;, &quot;iconColor&quot;: &quot;white&quot;, &quot;markerColor&quot;: &quot;green&quot;, &quot;prefix&quot;: &quot;glyphicon&quot;}\n",
       "            );\n",
       "            marker_1d28a5a55a651b93669f46c2da151fcb.setIcon(icon_bafdce807d71baf6a849d932fcb9ad10);\n",
       "        \n",
       "    \n",
       "        var popup_2bd45a19ede776e229ef6173ab12fc3e = L.popup({&quot;maxWidth&quot;: &quot;100%&quot;});\n",
       "\n",
       "        \n",
       "            \n",
       "                var html_f1b0aaa7af675e0950382a9b4bf86bd9 = $(`&lt;div id=&quot;html_f1b0aaa7af675e0950382a9b4bf86bd9&quot; style=&quot;width: 100.0%; height: 100.0%;&quot;&gt;&lt;div style=&quot;width:350px&quot;&gt;資料館拝観、Dialogue&lt;/div&gt;&lt;/div&gt;`)[0];\n",
       "                popup_2bd45a19ede776e229ef6173ab12fc3e.setContent(html_f1b0aaa7af675e0950382a9b4bf86bd9);\n",
       "            \n",
       "        \n",
       "\n",
       "        marker_1d28a5a55a651b93669f46c2da151fcb.bindPopup(popup_2bd45a19ede776e229ef6173ab12fc3e)\n",
       "        ;\n",
       "\n",
       "        \n",
       "    \n",
       "    \n",
       "            marker_1d28a5a55a651b93669f46c2da151fcb.bindTooltip(\n",
       "                `&lt;div&gt;\n",
       "                     原爆ドーム\n",
       "                 &lt;/div&gt;`,\n",
       "                {&quot;sticky&quot;: true}\n",
       "            );\n",
       "        \n",
       "&lt;/script&gt;\n",
       "&lt;/html&gt;\" style=\"position:absolute;width:100%;height:100%;left:0;top:0;border:none !important;\" allowfullscreen webkitallowfullscreen mozallowfullscreen></iframe></div></div>"
      ],
      "text/plain": [
       "<folium.folium.Map at 0x1346d4350>"
      ]
     },
     "execution_count": 38,
     "metadata": {},
     "output_type": "execute_result"
    }
   ],
   "source": [
    "# make the map\n",
    "m = folium.Map(location=[center_lat,center_lon], \n",
    "               zoom_start=13.5,\n",
    "               attr = '国土地理院')\n",
    "\n",
    "# add basemaps\n",
    "folium.TileLayer(name='2007年以降',tiles='https://cyberjapandata.gsi.go.jp/xyz/seamlessphoto/{z}/{x}/{y}.jpg',attr='国土地理院').add_to(m)\n",
    "folium.TileLayer(name='1987年～1990年',tiles='https://cyberjapandata.gsi.go.jp/xyz/gazo4/{z}/{x}/{y}.jpg',attr='国土地理院').add_to(m)\n",
    "folium.TileLayer(name='1984年～1986年',tiles='https://cyberjapandata.gsi.go.jp/xyz/gazo3/{z}/{x}/{y}.jpg',attr='国土地理院').add_to(m)\n",
    "folium.TileLayer(name='1979年～1983年',tiles='https://cyberjapandata.gsi.go.jp/xyz/gazo2/{z}/{x}/{y}.jpg',attr='国土地理院').add_to(m)\n",
    "folium.TileLayer(name='1974年～1978年',tiles='https://cyberjapandata.gsi.go.jp/xyz/gazo1/{z}/{x}/{y}.jpg',attr='国土地理院').add_to(m)\n",
    "folium.TileLayer(name='1961年～1969年',tiles='https://cyberjapandata.gsi.go.jp/xyz/ort_old10/{z}/{x}/{y}.png',attr='国土地理院').add_to(m)\n",
    "\n",
    "# basemapが選べるボタンをマップに足す\n",
    "folium.LayerControl().add_to(m)\n",
    "\n",
    "# add points\n",
    "for index, row in df.iterrows():\n",
    "    latlon = [row['latitude'],row['longitude']]\n",
    "    folium.Marker(latlon, \n",
    "                  popup='<div style=\"width:350px\">'+row['description']+'</div>', \n",
    "                  tooltip=row['name'],\n",
    "                  icon=folium.Icon(color=row['colour']\n",
    "                )).add_to(m)\n",
    "# show the map\n",
    "m\n",
    "\n"
   ]
  },
  {
   "cell_type": "code",
   "execution_count": 39,
   "metadata": {},
   "outputs": [],
   "source": [
    "m.save(\"map.html\")"
   ]
  },
  {
   "cell_type": "code",
   "execution_count": null,
   "metadata": {},
   "outputs": [],
   "source": []
  }
 ],
 "metadata": {
  "kernelspec": {
   "display_name": "gis",
   "language": "python",
   "name": "python3"
  },
  "language_info": {
   "codemirror_mode": {
    "name": "ipython",
    "version": 3
   },
   "file_extension": ".py",
   "mimetype": "text/x-python",
   "name": "python",
   "nbconvert_exporter": "python",
   "pygments_lexer": "ipython3",
   "version": "3.11.9"
  }
 },
 "nbformat": 4,
 "nbformat_minor": 2
}
